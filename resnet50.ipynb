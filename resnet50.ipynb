{
  "nbformat": 4,
  "nbformat_minor": 0,
  "metadata": {
    "colab": {
      "provenance": []
    },
    "kernelspec": {
      "name": "python3",
      "display_name": "Python 3"
    },
    "language_info": {
      "name": "python"
    }
  },
  "cells": [
    {
      "cell_type": "code",
      "execution_count": null,
      "metadata": {
        "id": "8FluA9HoxZXQ"
      },
      "outputs": [],
      "source": [
        "# Author : Yagan Arun\n",
        "from google.colab import drive\n",
        "import torch\n",
        "import torch.nn as nn\n",
        "from torch.nn.functional import softmax, interpolate\n",
        "from torchvision.io import read_image\n",
        "import torch.optim as optim\n",
        "from torch.optim import lr_scheduler\n",
        "from torchvision.transforms.functional import normalize, resize, to_pil_image\n",
        "import torch.backends.cudnn as cudnn\n",
        "import numpy as np\n",
        "import torchvision\n",
        "from torchvision import datasets, models, transforms\n",
        "from torchvision.models import resnet50\n",
        "from torchcam.methods import SmoothGradCAMpp, LayerCAM, ScoreCAM\n",
        "from torchcam.utils import overlay_mask\n",
        "\n",
        "import matplotlib.pyplot as plt\n",
        "import time\n",
        "import os\n",
        "from PIL import Image\n",
        "from tempfile import TemporaryDirectory\n",
        "\n",
        "cudnn.benchmark = True"
      ]
    },
    {
      "cell_type": "code",
      "source": [
        "drive.mount('/content/drive')\n",
        "device = torch.device(\"cuda:0\" if torch.cuda.is_available() else \"cpu\")\n",
        "print(\" Computation unit used : {}\".format(device))"
      ],
      "metadata": {
        "id": "wOnIKbayxdJU"
      },
      "execution_count": null,
      "outputs": []
    },
    {
      "cell_type": "code",
      "source": [
        "ROOT = \"drive/MyDrive/\"\n",
        "pg = os.path.join(ROOT, \"playground\")\n",
        "data_dir = os.path.join(ROOT, \"MangoLeafBD\")\n",
        "models_dir = os.path.join(ROOT, \"models\")"
      ],
      "metadata": {
        "id": "jokdiNfkxifY"
      },
      "execution_count": null,
      "outputs": []
    },
    {
      "cell_type": "code",
      "source": [
        "data_transforms = {\n",
        "    'train': transforms.Compose([\n",
        "        transforms.RandomResizedCrop(224),\n",
        "        transforms.RandomHorizontalFlip(),\n",
        "        transforms.ToTensor(),\n",
        "        transforms.Normalize([0.485, 0.456, 0.406], [0.229, 0.224, 0.225])\n",
        "    ]),\n",
        "    'val': transforms.Compose([\n",
        "        transforms.Resize(256),\n",
        "        transforms.CenterCrop(224),\n",
        "        transforms.ToTensor(),\n",
        "        transforms.Normalize([0.485, 0.456, 0.406], [0.229, 0.224, 0.225])\n",
        "    ]),\n",
        "}"
      ],
      "metadata": {
        "id": "8O-_6eZLxlNq"
      },
      "execution_count": null,
      "outputs": []
    },
    {
      "cell_type": "code",
      "source": [
        "image_datasets = {x: datasets.ImageFolder(os.path.join(data_dir, x),\n",
        "                                          data_transforms[x])\n",
        "                  for x in ['train', 'val']}\n",
        "dataloaders = {x: torch.utils.data.DataLoader(image_datasets[x], batch_size=32,\n",
        "                                             shuffle=True, num_workers=4)\n",
        "              for x in ['train', 'val']}\n",
        "dataset_sizes = {x: len(image_datasets[x]) for x in ['train', 'val']}\n",
        "class_names = image_datasets['train'].classes"
      ],
      "metadata": {
        "id": "x0RyjRsnxnHr"
      },
      "execution_count": null,
      "outputs": []
    },
    {
      "cell_type": "code",
      "source": [
        "def imshow(inp, title=None):\n",
        "    \"\"\"Display image for Tensor.\"\"\"\n",
        "    inp = inp.numpy().transpose((1, 2, 0))\n",
        "    mean = np.array([0.485, 0.456, 0.406])\n",
        "    std = np.array([0.229, 0.224, 0.225])\n",
        "    inp = std * inp + mean\n",
        "    inp = np.clip(inp, 0, 1)\n",
        "    plt.imshow(inp)\n",
        "    if title is not None:\n",
        "        plt.title(title)\n",
        "    plt.pause(0.001)"
      ],
      "metadata": {
        "id": "UEne6DEkxpo1"
      },
      "execution_count": null,
      "outputs": []
    },
    {
      "cell_type": "code",
      "source": [
        "inputs, classes = next(iter(dataloaders['train']))\n",
        "# Make a grid from batch\n",
        "out = torchvision.utils.make_grid(inputs)\n",
        "imshow(out, title=[class_names[x] for x in classes])"
      ],
      "metadata": {
        "id": "kJA_CJMmxr92"
      },
      "execution_count": null,
      "outputs": []
    },
    {
      "cell_type": "code",
      "source": [
        "def train_model(model, criterion, optimizer, scheduler, num_epochs=25, check_pt_freq=5, model_name = None):\n",
        "    since = time.time()\n",
        "    PATH = os.path.join(models_dir, f'{model_name}.pth')\n",
        "    statsrec = {\n",
        "        \"train\": {\n",
        "            \"epoch\":[],\n",
        "            \"loss\":[],\n",
        "            \"acc\":[],\n",
        "        },\n",
        "        \"val\" : {\n",
        "            \"epoch\":[],\n",
        "            \"loss\":[],\n",
        "            \"acc\":[],\n",
        "        }\n",
        "    }\n",
        "    if f'{model_name}.pth' in os.listdir(models_dir):\n",
        "      return torch.load(PATH)\n",
        "    # Create a temporary directory to save training checkpoints\n",
        "    with TemporaryDirectory() as tempdir:\n",
        "        best_model_params_path = os.path.join(tempdir, 'best_model_params.pt')\n",
        "\n",
        "        torch.save(model.state_dict(), best_model_params_path)\n",
        "        best_acc = 0.0\n",
        "\n",
        "        for epoch in range(num_epochs):\n",
        "            print(f'Epoch {epoch}/{num_epochs - 1}')\n",
        "            print('-' * 10)\n",
        "\n",
        "            # Each epoch has a training and validation phase\n",
        "            for phase in ['train', 'val']:\n",
        "                if phase == 'train':\n",
        "                    model.train()  # Set model to training mode\n",
        "                else:\n",
        "                    model.eval()   # Set model to evaluate mode\n",
        "\n",
        "                running_loss = 0.0\n",
        "                running_corrects = 0\n",
        "\n",
        "                # Iterate over data.\n",
        "                for inputs, labels in dataloaders[phase]:\n",
        "                    inputs = inputs.to(device)\n",
        "                    labels = labels.to(device)\n",
        "\n",
        "                    # zero the parameter gradients\n",
        "                    optimizer.zero_grad()\n",
        "\n",
        "                    # forward\n",
        "                    # track history if only in train\n",
        "                    with torch.set_grad_enabled(phase == 'train'):\n",
        "                        outputs = model(inputs)\n",
        "                        _, preds = torch.max(outputs, 1)\n",
        "                        loss = criterion(outputs, labels)\n",
        "\n",
        "                        # backward + optimize only if in training phase\n",
        "                        if phase == 'train':\n",
        "                            loss.backward()\n",
        "                            optimizer.step()\n",
        "\n",
        "                    # statistics\n",
        "                    running_loss += loss.item() * inputs.size(0)\n",
        "                    running_corrects += torch.sum(preds == labels.data)\n",
        "                if phase == 'train':\n",
        "                    scheduler.step()\n",
        "\n",
        "                epoch_loss = running_loss.double() / dataset_sizes[phase]\n",
        "                epoch_acc = running_corrects.double() / dataset_sizes[phase]\n",
        "                statsrec[phase][\"epoch\"].append(epoch)\n",
        "                statsrec[phase][\"loss\"].append(epoch_loss)\n",
        "                statsrec[phase][\"acc\"].append(epoch_acc)\n",
        "\n",
        "                print(f'{phase} Loss: {epoch_loss:.4f} Acc: {epoch_acc:.4f}')\n",
        "\n",
        "                # deep copy the model\n",
        "                if phase == 'val' and epoch_acc > best_acc:\n",
        "                    best_acc = epoch_acc\n",
        "                    torch.save(model.state_dict(), best_model_params_path)\n",
        "\n",
        "            print()\n",
        "\n",
        "        time_elapsed = time.time() - since\n",
        "        print(f'Training complete in {time_elapsed // 60:.0f}m {time_elapsed % 60:.0f}s')\n",
        "        print(f'Best val Acc: {best_acc:4f}')\n",
        "\n",
        "        # load best model weights\n",
        "        model.load_state_dict(torch.load(best_model_params_path))\n",
        "\n",
        "        # save model in permanent dir\n",
        "        torch.save({\"state_dict\": model, \"stats\": statsrec}, PATH)\n",
        "    return model"
      ],
      "metadata": {
        "id": "9MwcRFTnxuFp"
      },
      "execution_count": null,
      "outputs": []
    },
    {
      "cell_type": "code",
      "source": [
        "def get_gradcam(model, img_path, layer='layer3'):\n",
        "    model = model.eval()\n",
        "    cam_extractor = SmoothGradCAMpp(model, '{}'.format(layer))\n",
        "    # Get your input\n",
        "    img = Image.open(img_path)\n",
        "    transform = transforms.PILToTensor()\n",
        "    img = transform(img)\n",
        "    # Preprocess it for your chosen model\n",
        "    input_tensor = normalize(resize(img.to(device), (224, 224)) / 255., [0.485, 0.456, 0.406], [0.229, 0.224, 0.225])\n",
        "\n",
        "    # Preprocess your data and feed it to the model\n",
        "    out = model(input_tensor.unsqueeze(0))\n",
        "    # Retrieve the CAM by passing the class index and the model output\n",
        "    cams = cam_extractor(out.squeeze(0).argmax().item(), out)\n",
        "    _, predicted = torch.max(out, 1)\n",
        "\n",
        "    for name, cam in zip(cam_extractor.target_names, cams):\n",
        "      _, axes = plt.subplots(1, 1)\n",
        "      result = overlay_mask(to_pil_image(img), to_pil_image(cam.squeeze(0), mode='F'), alpha=0.5)\n",
        "      return result"
      ],
      "metadata": {
        "id": "JXkMUB-lxyCV"
      },
      "execution_count": null,
      "outputs": []
    },
    {
      "cell_type": "code",
      "source": [
        "def get_localization_cues(model, img_path, layer='layer3'):\n",
        "    model = model.eval()\n",
        "    cam_extractor = SmoothGradCAMpp(model, '{}'.format(layer))\n",
        "    # Get your input\n",
        "    img = Image.open(img_path)\n",
        "    transform = transforms.PILToTensor()\n",
        "    img = transform(img)\n",
        "    # Preprocess it for your chosen model\n",
        "    input_tensor = normalize(resize(img.to(device), (224, 224)) / 255., [0.485, 0.456, 0.406], [0.229, 0.224, 0.225])\n",
        "\n",
        "    # Preprocess your data and feed it to the model\n",
        "    out = model(input_tensor.unsqueeze(0))\n",
        "    # Retrieve the CAM by passing the class index and the model output\n",
        "    cams = cam_extractor(out.squeeze(0).argmax().item(), out)\n",
        "\n",
        "    _, predicted = torch.max(out, 1)\n",
        "\n",
        "    # Resize it\n",
        "    resized_cams = [resize(to_pil_image(cam.squeeze(0)), img.shape[-2:]) for cam in cams]\n",
        "    segmaps = [to_pil_image((resize(cam, img.shape[-2:]).squeeze(0) >= 0.5).to(dtype=torch.float32)) for cam in cams]\n",
        "    # Plot it\n",
        "    for name, cam, seg in zip(cam_extractor.target_names, resized_cams, segmaps):\n",
        "      _, axes = plt.subplots(1, 2)\n",
        "      return seg"
      ],
      "metadata": {
        "id": "tyM_SZbXx7Q7"
      },
      "execution_count": null,
      "outputs": []
    },
    {
      "cell_type": "code",
      "source": [
        "def visualize_model(model, num_images=6):\n",
        "    was_training = model.training\n",
        "    model.eval()\n",
        "    images_so_far = 0\n",
        "    fig = plt.figure()\n",
        "\n",
        "    with torch.no_grad():\n",
        "        for i, (inputs, labels) in enumerate(dataloaders['val']):\n",
        "            inputs = inputs.to(device)\n",
        "            labels = labels.to(device)\n",
        "\n",
        "            outputs = model(inputs)\n",
        "            _, preds = torch.max(outputs, 1)\n",
        "\n",
        "            for j in range(inputs.size()[0]):\n",
        "                images_so_far += 1\n",
        "                ax = plt.subplot(num_images//2, 2, images_so_far)\n",
        "                ax.axis('off')\n",
        "                ax.set_title(f'predicted: {class_names[preds[j]]}')\n",
        "                imshow(inputs.cpu().data[j])\n",
        "\n",
        "                if images_so_far == num_images:\n",
        "                    model.train(mode=was_training)\n",
        "                    return\n",
        "        model.train(mode=was_training)"
      ],
      "metadata": {
        "id": "gavqt4BAx_qV"
      },
      "execution_count": null,
      "outputs": []
    },
    {
      "cell_type": "code",
      "source": [
        "model_ft = models.resnet50(weights='IMAGENET1K_V1')\n",
        "num_ftrs = model_ft.fc.in_features\n",
        "model_ft.fc = nn.Linear(num_ftrs, 7) # output features\n",
        "model_ft = model_ft.to(device)\n",
        "criterion = nn.CrossEntropyLoss()\n",
        "optimizer_ft = optim.SGD(model_ft.parameters(), lr=0.001, momentum=0.9)\n",
        "exp_lr_scheduler = lr_scheduler.StepLR(optimizer_ft, step_size=7, gamma=0.1)"
      ],
      "metadata": {
        "id": "iAol8LKIyCln"
      },
      "execution_count": null,
      "outputs": []
    },
    {
      "cell_type": "code",
      "source": [
        "model_ft = train_model(model_ft, criterion, optimizer_ft, exp_lr_scheduler, num_epochs=5, model_name=\"resnet_50_mango\")"
      ],
      "metadata": {
        "id": "L3NruI63yKDg"
      },
      "execution_count": null,
      "outputs": []
    },
    {
      "cell_type": "code",
      "source": [
        "dataiter = iter(dataloaders['val'])\n",
        "images, labels = next(dataiter)\n",
        "imshow(torchvision.utils.make_grid(images))\n",
        "print(images.size()[0])\n",
        "images = images.to(device)\n",
        "labels = labels.to(device)\n",
        "print('GroundTruth: ', ' '.join(f'{class_names[labels[j]]:5s}' for j in range(32)))"
      ],
      "metadata": {
        "id": "3PyYDjYdyQj8"
      },
      "execution_count": null,
      "outputs": []
    },
    {
      "cell_type": "code",
      "source": [
        "outputs = model_ft(images)\n",
        "_, predicted = torch.max(outputs, 1)\n",
        "print('Predicted: ', ' '.join(f'{class_names[predicted[j]]:5s}' for j in range(3)))"
      ],
      "metadata": {
        "id": "4pNfvq06yUVj"
      },
      "execution_count": null,
      "outputs": []
    },
    {
      "cell_type": "code",
      "source": [
        "!wget hhttps://previews.123rf.com/images/muslian/muslian1811/muslian181100367/116673148-mango-leaves-infected-by-powdery-mildew-oidium-mangiferae-powdery-mildew-is-one-of-the-most.jpg\n",
        "img_path = \"116673148-mango-leaves-infected-by-powdery-mildew-oidium-mangiferae-powdery-mildew-is-one-of-the-most.jpg\""
      ],
      "metadata": {
        "id": "jUFSbnuAyZWM"
      },
      "execution_count": null,
      "outputs": []
    },
    {
      "cell_type": "code",
      "source": [
        "layer = 'layer4'\n",
        "plt.imshow(get_gradcam(model_ft, img_path, layer))"
      ],
      "metadata": {
        "id": "_yRfSxeUybmN"
      },
      "execution_count": null,
      "outputs": []
    }
  ]
}